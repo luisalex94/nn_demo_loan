{
 "cells": [
  {
   "cell_type": "code",
   "execution_count": 1,
   "metadata": {},
   "outputs": [],
   "source": [
    "data1 = {\n",
    "    \"person_age\": 22,\n",
    "    \"person_income\": 59000,\n",
    "    \"person_home_ownership\": \"RENT\",\n",
    "    \"person_emp_length\": 123.0,\n",
    "    \"loan_intent\": \"PERSONAL\",\n",
    "    \"loan_grade\": \"D\",\n",
    "    \"loan_amnt\": 35000,\n",
    "    \"loan_int_rate\": 16.02,\n",
    "    \"loan_percent_income\": 0.59,\n",
    "    \"cb_person_default_on_file\": \"Y\",\n",
    "    \"cb_person_cred_hist_length\": 3\n",
    "}\n",
    "\n",
    "dat1a = {\n",
    "    \"person_age\": 23,\n",
    "    \"person_income\": 115000,\n",
    "    \"person_home_ownership\": \"RENT\",\n",
    "    \"person_emp_length\": 2.0,\n",
    "    \"loan_intent\": \"EDUCATION\",\n",
    "    \"loan_grade\": \"A\",\n",
    "    \"loan_amnt\": 35000,\n",
    "    \"loan_int_rate\": 7.9,\n",
    "    \"loan_percent_income\": 0.3,\n",
    "    \"cb_person_default_on_file\": \"N\",\n",
    "    \"cb_person_cred_hist_length\": 4\n",
    "}\n",
    "\n",
    "data = {\n",
    "    \"person_age\": 70,\n",
    "    \"person_income\": 98000,\n",
    "    \"person_home_ownership\": \"OWN\",\n",
    "    \"person_emp_length\": 9.0,\n",
    "    \"loan_intent\": \"EDUCATION\",\n",
    "    \"loan_grade\": \"A\",\n",
    "    \"loan_amnt\": 5000,\n",
    "    \"loan_int_rate\": 7.9,\n",
    "    \"loan_percent_income\": 0.57,\n",
    "    \"cb_person_default_on_file\": \"Y\",\n",
    "    \"cb_person_cred_hist_length\": 3\n",
    "}"
   ]
  },
  {
   "cell_type": "code",
   "execution_count": 2,
   "metadata": {},
   "outputs": [],
   "source": [
    "import joblib\n",
    "import torch\n",
    "import torch.nn as nn\n",
    "import pandas as pd"
   ]
  },
  {
   "cell_type": "code",
   "execution_count": 3,
   "metadata": {},
   "outputs": [
    {
     "name": "stdout",
     "output_type": "stream",
     "text": [
      "2.2.2\n",
      "2.5.0\n",
      "1.4.2\n"
     ]
    }
   ],
   "source": [
    "print(pd.__version__)\n",
    "print(torch.__version__)\n",
    "print(joblib.__version__)"
   ]
  },
  {
   "cell_type": "code",
   "execution_count": 4,
   "metadata": {},
   "outputs": [],
   "source": [
    "preprocessor = joblib.load(\"../ModelNNFunctionKonfio/preprocessor.pkl\")"
   ]
  },
  {
   "cell_type": "code",
   "execution_count": 5,
   "metadata": {},
   "outputs": [],
   "source": [
    "# Crear un DataFrame con los datos\n",
    "data = pd.DataFrame(data, index=[0])\n",
    "\n",
    "# Transformar los datos\n",
    "preprocessed_data = preprocessor.transform(data)"
   ]
  },
  {
   "cell_type": "code",
   "execution_count": 6,
   "metadata": {},
   "outputs": [
    {
     "name": "stderr",
     "output_type": "stream",
     "text": [
      "C:\\Users\\luisa\\AppData\\Local\\Temp\\ipykernel_38984\\3198625454.py:23: FutureWarning: You are using `torch.load` with `weights_only=False` (the current default value), which uses the default pickle module implicitly. It is possible to construct malicious pickle data which will execute arbitrary code during unpickling (See https://github.com/pytorch/pytorch/blob/main/SECURITY.md#untrusted-models for more details). In a future release, the default value for `weights_only` will be flipped to `True`. This limits the functions that could be executed during unpickling. Arbitrary objects will no longer be allowed to be loaded via this mode unless they are explicitly allowlisted by the user via `torch.serialization.add_safe_globals`. We recommend you start setting `weights_only=True` for any use case where you don't have full control of the loaded file. Please open an issue on GitHub for any issues related to this experimental feature.\n",
      "  model = torch.load('../ModelNNFunctionKonfio/model.pth')\n"
     ]
    },
    {
     "data": {
      "text/plain": [
       "LoanApprovalNN(\n",
       "  (fc1): Linear(in_features=26, out_features=64, bias=True)\n",
       "  (fc2): Linear(in_features=64, out_features=64, bias=True)\n",
       "  (fc3): Linear(in_features=64, out_features=64, bias=True)\n",
       "  (fc4): Linear(in_features=64, out_features=32, bias=True)\n",
       "  (output): Linear(in_features=32, out_features=1, bias=True)\n",
       ")"
      ]
     },
     "execution_count": 6,
     "metadata": {},
     "output_type": "execute_result"
    }
   ],
   "source": [
    "# Define the neural network\n",
    "class LoanApprovalNN(nn.Module):\n",
    "    def __init__(self):\n",
    "        super(LoanApprovalNN, self).__init__()              # Call the constructor of the parent class\n",
    "        self.fc1 = nn.Linear(26, 64)   # Define the first fully connected layer\n",
    "        self.fc2 = nn.Linear(64, 64)                        # Define the second fully connected layer\n",
    "        self.fc3 = nn.Linear(64, 64)                        # Define the third fully connected layer\n",
    "        self.fc4 = nn.Linear(64, 32)                        # Define the fourth fully connected layer\n",
    "        self.output = nn.Linear(32, 1)                      # Define the output layer\n",
    "    \n",
    "    def forward(self, x):\n",
    "        x = torch.relu(self.fc1(x))             # Apply the ReLU activation function to the first fully connected layer\n",
    "        x = torch.relu(self.fc2(x))             # Apply the ReLU activation function to the second fully connected layer\n",
    "        x = torch.relu(self.fc3(x))             # Apply the ReLU activation function to the third fully connected layer\n",
    "        x = torch.relu(self.fc4(x))             # Apply the ReLU activation function to the fourth fully connected layer  \n",
    "        x = torch.sigmoid(self.output(x))       # Apply the sigmoid activation function to the output layer\n",
    "        return x\n",
    "\n",
    "# Instantiate the model\n",
    "model = LoanApprovalNN()\n",
    "\n",
    "# Load the model\n",
    "model = torch.load('../ModelNNFunctionKonfio/model.pth')\n",
    "\n",
    "# Set the model to evaluation mode\n",
    "model.eval()"
   ]
  },
  {
   "cell_type": "code",
   "execution_count": 7,
   "metadata": {},
   "outputs": [
    {
     "name": "stdout",
     "output_type": "stream",
     "text": [
      "tensor([[0.6449]])\n"
     ]
    }
   ],
   "source": [
    "# Convertir los datos preprocesados a tensor y ajustar la forma\n",
    "X_tensor = torch.tensor(preprocessed_data, dtype=torch.float32)\n",
    "\n",
    "# Realizar las predicciones\n",
    "with torch.no_grad():\n",
    "    predictions = model(X_tensor)\n",
    "\n",
    "# Aplicar sigmoide si es necesario\n",
    "predictions = torch.sigmoid(predictions)\n",
    "\n",
    "# Imprimir resultados\n",
    "print(predictions)"
   ]
  },
  {
   "cell_type": "code",
   "execution_count": null,
   "metadata": {},
   "outputs": [],
   "source": []
  }
 ],
 "metadata": {
  "kernelspec": {
   "display_name": "base",
   "language": "python",
   "name": "python3"
  },
  "language_info": {
   "codemirror_mode": {
    "name": "ipython",
    "version": 3
   },
   "file_extension": ".py",
   "mimetype": "text/x-python",
   "name": "python",
   "nbconvert_exporter": "python",
   "pygments_lexer": "ipython3",
   "version": "3.12.4"
  }
 },
 "nbformat": 4,
 "nbformat_minor": 2
}
